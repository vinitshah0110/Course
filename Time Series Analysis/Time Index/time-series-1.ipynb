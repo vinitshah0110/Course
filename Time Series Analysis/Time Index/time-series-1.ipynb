{
 "cells": [
  {
   "cell_type": "code",
   "execution_count": 58,
   "metadata": {
    "collapsed": false
   },
   "outputs": [
    {
     "data": {
      "text/html": [
       "<div>\n",
       "<style scoped>\n",
       "    .dataframe tbody tr th:only-of-type {\n",
       "        vertical-align: middle;\n",
       "    }\n",
       "\n",
       "    .dataframe tbody tr th {\n",
       "        vertical-align: top;\n",
       "    }\n",
       "\n",
       "    .dataframe thead th {\n",
       "        text-align: right;\n",
       "    }\n",
       "</style>\n",
       "<table border=\"1\" class=\"dataframe\">\n",
       "  <thead>\n",
       "    <tr style=\"text-align: right;\">\n",
       "      <th></th>\n",
       "      <th>Date</th>\n",
       "      <th>Open</th>\n",
       "      <th>High</th>\n",
       "      <th>Low</th>\n",
       "      <th>Close</th>\n",
       "      <th>Volume</th>\n",
       "    </tr>\n",
       "  </thead>\n",
       "  <tbody>\n",
       "    <tr>\n",
       "      <th>0</th>\n",
       "      <td>2017-07-07</td>\n",
       "      <td>142.90</td>\n",
       "      <td>144.75</td>\n",
       "      <td>142.90</td>\n",
       "      <td>144.18</td>\n",
       "      <td>19201712</td>\n",
       "    </tr>\n",
       "    <tr>\n",
       "      <th>1</th>\n",
       "      <td>2017-07-06</td>\n",
       "      <td>143.02</td>\n",
       "      <td>143.50</td>\n",
       "      <td>142.41</td>\n",
       "      <td>142.73</td>\n",
       "      <td>24128782</td>\n",
       "    </tr>\n",
       "    <tr>\n",
       "      <th>2</th>\n",
       "      <td>2017-07-05</td>\n",
       "      <td>143.69</td>\n",
       "      <td>144.79</td>\n",
       "      <td>142.72</td>\n",
       "      <td>144.09</td>\n",
       "      <td>21569557</td>\n",
       "    </tr>\n",
       "    <tr>\n",
       "      <th>3</th>\n",
       "      <td>2017-07-03</td>\n",
       "      <td>144.88</td>\n",
       "      <td>145.30</td>\n",
       "      <td>143.10</td>\n",
       "      <td>143.50</td>\n",
       "      <td>14277848</td>\n",
       "    </tr>\n",
       "    <tr>\n",
       "      <th>4</th>\n",
       "      <td>2017-06-30</td>\n",
       "      <td>144.45</td>\n",
       "      <td>144.96</td>\n",
       "      <td>143.78</td>\n",
       "      <td>144.02</td>\n",
       "      <td>23024107</td>\n",
       "    </tr>\n",
       "  </tbody>\n",
       "</table>\n",
       "</div>"
      ],
      "text/plain": [
       "        Date    Open    High     Low   Close    Volume\n",
       "0 2017-07-07  142.90  144.75  142.90  144.18  19201712\n",
       "1 2017-07-06  143.02  143.50  142.41  142.73  24128782\n",
       "2 2017-07-05  143.69  144.79  142.72  144.09  21569557\n",
       "3 2017-07-03  144.88  145.30  143.10  143.50  14277848\n",
       "4 2017-06-30  144.45  144.96  143.78  144.02  23024107"
      ]
     },
     "execution_count": 58,
     "metadata": {
     },
     "output_type": "execute_result"
    }
   ],
   "source": [
    "import pandas as pd\n",
    "import matplotlib.pyplot as plt\n",
    "%matplotlib inline\n",
    "plt.style.use('seaborn')\n",
    "df = pd.read_csv('apple-data.csv', parse_dates=['Date'])\n",
    "df.head()"
   ]
  },
  {
   "cell_type": "code",
   "execution_count": 59,
   "metadata": {
    "collapsed": false
   },
   "outputs": [
    {
     "data": {
      "text/html": [
       "<div>\n",
       "<style scoped>\n",
       "    .dataframe tbody tr th:only-of-type {\n",
       "        vertical-align: middle;\n",
       "    }\n",
       "\n",
       "    .dataframe tbody tr th {\n",
       "        vertical-align: top;\n",
       "    }\n",
       "\n",
       "    .dataframe thead th {\n",
       "        text-align: right;\n",
       "    }\n",
       "</style>\n",
       "<table border=\"1\" class=\"dataframe\">\n",
       "  <thead>\n",
       "    <tr style=\"text-align: right;\">\n",
       "      <th></th>\n",
       "      <th>Open</th>\n",
       "      <th>High</th>\n",
       "      <th>Low</th>\n",
       "      <th>Close</th>\n",
       "      <th>Volume</th>\n",
       "    </tr>\n",
       "    <tr>\n",
       "      <th>Date</th>\n",
       "      <th></th>\n",
       "      <th></th>\n",
       "      <th></th>\n",
       "      <th></th>\n",
       "      <th></th>\n",
       "    </tr>\n",
       "  </thead>\n",
       "  <tbody>\n",
       "    <tr>\n",
       "      <th>2017-07-07</th>\n",
       "      <td>142.90</td>\n",
       "      <td>144.75</td>\n",
       "      <td>142.90</td>\n",
       "      <td>144.18</td>\n",
       "      <td>19201712</td>\n",
       "    </tr>\n",
       "    <tr>\n",
       "      <th>2017-07-06</th>\n",
       "      <td>143.02</td>\n",
       "      <td>143.50</td>\n",
       "      <td>142.41</td>\n",
       "      <td>142.73</td>\n",
       "      <td>24128782</td>\n",
       "    </tr>\n",
       "    <tr>\n",
       "      <th>2017-07-05</th>\n",
       "      <td>143.69</td>\n",
       "      <td>144.79</td>\n",
       "      <td>142.72</td>\n",
       "      <td>144.09</td>\n",
       "      <td>21569557</td>\n",
       "    </tr>\n",
       "    <tr>\n",
       "      <th>2017-07-03</th>\n",
       "      <td>144.88</td>\n",
       "      <td>145.30</td>\n",
       "      <td>143.10</td>\n",
       "      <td>143.50</td>\n",
       "      <td>14277848</td>\n",
       "    </tr>\n",
       "    <tr>\n",
       "      <th>2017-06-30</th>\n",
       "      <td>144.45</td>\n",
       "      <td>144.96</td>\n",
       "      <td>143.78</td>\n",
       "      <td>144.02</td>\n",
       "      <td>23024107</td>\n",
       "    </tr>\n",
       "    <tr>\n",
       "      <th>...</th>\n",
       "      <td>...</td>\n",
       "      <td>...</td>\n",
       "      <td>...</td>\n",
       "      <td>...</td>\n",
       "      <td>...</td>\n",
       "    </tr>\n",
       "    <tr>\n",
       "      <th>2016-07-15</th>\n",
       "      <td>98.92</td>\n",
       "      <td>99.30</td>\n",
       "      <td>98.50</td>\n",
       "      <td>98.78</td>\n",
       "      <td>30136990</td>\n",
       "    </tr>\n",
       "    <tr>\n",
       "      <th>2016-07-14</th>\n",
       "      <td>97.39</td>\n",
       "      <td>98.99</td>\n",
       "      <td>97.32</td>\n",
       "      <td>98.79</td>\n",
       "      <td>38918997</td>\n",
       "    </tr>\n",
       "    <tr>\n",
       "      <th>2016-07-13</th>\n",
       "      <td>97.41</td>\n",
       "      <td>97.67</td>\n",
       "      <td>96.84</td>\n",
       "      <td>96.87</td>\n",
       "      <td>25892171</td>\n",
       "    </tr>\n",
       "    <tr>\n",
       "      <th>2016-07-12</th>\n",
       "      <td>97.17</td>\n",
       "      <td>97.70</td>\n",
       "      <td>97.12</td>\n",
       "      <td>97.42</td>\n",
       "      <td>24167463</td>\n",
       "    </tr>\n",
       "    <tr>\n",
       "      <th>2016-07-11</th>\n",
       "      <td>96.75</td>\n",
       "      <td>97.65</td>\n",
       "      <td>96.73</td>\n",
       "      <td>96.98</td>\n",
       "      <td>23794945</td>\n",
       "    </tr>\n",
       "  </tbody>\n",
       "</table>\n",
       "<p>251 rows × 5 columns</p>\n",
       "</div>"
      ],
      "text/plain": [
       "              Open    High     Low   Close    Volume\n",
       "Date                                                \n",
       "2017-07-07  142.90  144.75  142.90  144.18  19201712\n",
       "2017-07-06  143.02  143.50  142.41  142.73  24128782\n",
       "2017-07-05  143.69  144.79  142.72  144.09  21569557\n",
       "2017-07-03  144.88  145.30  143.10  143.50  14277848\n",
       "2017-06-30  144.45  144.96  143.78  144.02  23024107\n",
       "...            ...     ...     ...     ...       ...\n",
       "2016-07-15   98.92   99.30   98.50   98.78  30136990\n",
       "2016-07-14   97.39   98.99   97.32   98.79  38918997\n",
       "2016-07-13   97.41   97.67   96.84   96.87  25892171\n",
       "2016-07-12   97.17   97.70   97.12   97.42  24167463\n",
       "2016-07-11   96.75   97.65   96.73   96.98  23794945\n",
       "\n",
       "[251 rows x 5 columns]"
      ]
     },
     "execution_count": 59,
     "metadata": {
     },
     "output_type": "execute_result"
    }
   ],
   "source": [
    "new_df = df.set_index('Date')     #TimeIndex\n",
    "new_df"
   ]
  },
  {
   "cell_type": "code",
   "execution_count": 60,
   "metadata": {
    "collapsed": false
   },
   "outputs": [
    {
     "data": {
      "text/plain": [
       "count    251.000000\n",
       "mean     125.487490\n",
       "std       17.223805\n",
       "min       96.670000\n",
       "25%      111.045000\n",
       "50%      118.250000\n",
       "75%      142.355000\n",
       "max      156.100000\n",
       "Name: Close, dtype: float64"
      ]
     },
     "execution_count": 60,
     "metadata": {
     },
     "output_type": "execute_result"
    }
   ],
   "source": [
    "new_df.Close.describe()"
   ]
  },
  {
   "cell_type": "code",
   "execution_count": 61,
   "metadata": {
    "collapsed": false
   },
   "outputs": [
    {
     "data": {
      "text/plain": [
       "DatetimeIndex(['2017-07-07', '2017-07-06', '2017-07-05', '2017-07-03',\n",
       "               '2017-06-30', '2017-06-29', '2017-06-28', '2017-06-27',\n",
       "               '2017-06-26', '2017-06-23',\n",
       "               ...\n",
       "               '2016-07-22', '2016-07-21', '2016-07-20', '2016-07-19',\n",
       "               '2016-07-18', '2016-07-15', '2016-07-14', '2016-07-13',\n",
       "               '2016-07-12', '2016-07-11'],\n",
       "              dtype='datetime64[ns]', name='Date', length=251, freq=None)"
      ]
     },
     "execution_count": 61,
     "metadata": {
     },
     "output_type": "execute_result"
    }
   ],
   "source": [
    "new_df.index"
   ]
  },
  {
   "cell_type": "code",
   "execution_count": 62,
   "metadata": {
    "collapsed": false
   },
   "outputs": [
    {
     "data": {
      "text/plain": [
       "Date\n",
       "2016-07-31     99.473333\n",
       "2016-08-31    107.665217\n",
       "2016-09-30    110.857143\n",
       "2016-10-31    115.707143\n",
       "2016-11-30    110.154286\n",
       "2016-12-31    114.335714\n",
       "2017-01-31    119.570000\n",
       "2017-02-28    133.713684\n",
       "2017-03-31    140.617826\n",
       "2017-04-30    142.886842\n",
       "2017-05-31    152.227727\n",
       "2017-06-30    147.831364\n",
       "2017-07-31    143.625000\n",
       "Freq: M, Name: Close, dtype: float64"
      ]
     },
     "execution_count": 62,
     "metadata": {
     },
     "output_type": "execute_result"
    }
   ],
   "source": [
    "new_df.Close.resample('M').mean()     #Montly data points"
   ]
  },
  {
   "cell_type": "code",
   "execution_count": 69,
   "metadata": {
    "collapsed": false
   },
   "outputs": [
    {
     "data": {
      "image/png": "[encoded data removed]",
      "text/plain": [
       "<Figure size 576x396 with 1 Axes>"
      ]
     },
     "execution_count": 69,
     "metadata": {
      "image/png": {
       "height": 354,
       "width": 484
      }
     },
     "output_type": "execute_result"
    }
   ],
   "source": [
    "new_df.Close.resample('W').mean().plot();     #Weekly data points"
   ]
  }
 ],
 "metadata": {
  "kernelspec": {
   "display_name": "Python 3 (system-wide)",
   "language": "python",
   "metadata": {
    "cocalc": {
     "description": "Python 3 programming language",
     "priority": 100,
     "url": "https://www.python.org/"
    }
   },
   "name": "python3"
  },
  "language_info": {
   "codemirror_mode": {
    "name": "ipython",
    "version": 3
   },
   "file_extension": ".py",
   "mimetype": "text/x-python",
   "name": "python",
   "nbconvert_exporter": "python",
   "pygments_lexer": "ipython3",
   "version": "3.6.9"
  }
 },
 "nbformat": 4,
 "nbformat_minor": 4
}